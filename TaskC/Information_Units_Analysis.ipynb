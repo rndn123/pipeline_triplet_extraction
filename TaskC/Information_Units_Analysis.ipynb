{
 "cells": [
  {
   "cell_type": "code",
   "execution_count": 1,
   "metadata": {},
   "outputs": [],
   "source": [
    "import pandas as pd\n",
    "import numpy as np\n",
    "import re"
   ]
  },
  {
   "cell_type": "code",
   "execution_count": 2,
   "metadata": {},
   "outputs": [],
   "source": [
    "from sklearn.metrics import f1_score\n",
    "from sklearn.metrics import accuracy_score\n",
    "from sklearn.metrics import classification_report\n",
    "from sklearn.metrics import confusion_matrix"
   ]
  },
  {
   "cell_type": "code",
   "execution_count": 3,
   "metadata": {},
   "outputs": [],
   "source": [
    "df = pd.read_csv(\"Info_Units_Results/Test_info_units.csv\")"
   ]
  },
  {
   "cell_type": "code",
   "execution_count": 4,
   "metadata": {},
   "outputs": [],
   "source": [
    "def url(string):\n",
    "    regex = r\"(?i)\\b((?:https?://|www\\d{0,3}[.]|[a-z0-9.\\-]+[.][a-z]{2,4}/)(?:[^\\s()<>]+|\\(([^\\s()<>]+|(\\([^\\s()<>]+\\)))*\\))+(?:\\(([^\\s()<>]+|(\\([^\\s()<>]+\\)))*\\)|[^\\s`!()\\[\\]{};:'\\\".,<>?«»“”‘’]))\"\n",
    "    url = re.findall(regex,string)\n",
    "    return len(url)\n",
    "df.loc[(df['text'].apply(url) > 0), 'info_units'] = 'code'"
   ]
  },
  {
   "cell_type": "code",
   "execution_count": 5,
   "metadata": {},
   "outputs": [
    {
     "data": {
      "text/plain": [
       "results               845\n",
       "model                 625\n",
       "research-problem      318\n",
       "experimental-setup    268\n",
       "experiments           218\n",
       "hyperparameters       167\n",
       "ablation-analysis     132\n",
       "baselines             111\n",
       "code                   36\n",
       "Name: info_units, dtype: int64"
      ]
     },
     "execution_count": 5,
     "metadata": {},
     "output_type": "execute_result"
    }
   ],
   "source": [
    "df['info_units'].value_counts()"
   ]
  },
  {
   "cell_type": "code",
   "execution_count": 6,
   "metadata": {},
   "outputs": [],
   "source": [
    "#df.loc[(df['labels'] == 'code'), 'info_units'] = df['labels']"
   ]
  },
  {
   "cell_type": "code",
   "execution_count": 7,
   "metadata": {},
   "outputs": [
    {
     "data": {
      "text/plain": [
       "research-problem    261\n",
       "code                  4\n",
       "model                 4\n",
       "Name: labels, dtype: int64"
      ]
     },
     "execution_count": 7,
     "metadata": {},
     "output_type": "execute_result"
    }
   ],
   "source": [
    "df[df['pos1']<=10]['labels'].value_counts()"
   ]
  },
  {
   "cell_type": "code",
   "execution_count": 8,
   "metadata": {},
   "outputs": [
    {
     "data": {
      "text/plain": [
       "research-problem    254\n",
       "model                 9\n",
       "code                  4\n",
       "experiments           2\n",
       "Name: info_units, dtype: int64"
      ]
     },
     "execution_count": 8,
     "metadata": {},
     "output_type": "execute_result"
    }
   ],
   "source": [
    "df[df['pos1']<=10]['info_units'].value_counts()"
   ]
  },
  {
   "cell_type": "code",
   "execution_count": 9,
   "metadata": {},
   "outputs": [
    {
     "data": {
      "text/html": [
       "<div>\n",
       "<style scoped>\n",
       "    .dataframe tbody tr th:only-of-type {\n",
       "        vertical-align: middle;\n",
       "    }\n",
       "\n",
       "    .dataframe tbody tr th {\n",
       "        vertical-align: top;\n",
       "    }\n",
       "\n",
       "    .dataframe thead th {\n",
       "        text-align: right;\n",
       "    }\n",
       "</style>\n",
       "<table border=\"1\" class=\"dataframe\">\n",
       "  <thead>\n",
       "    <tr style=\"text-align: right;\">\n",
       "      <th></th>\n",
       "      <th>topic</th>\n",
       "      <th>paper_ID</th>\n",
       "      <th>main_heading</th>\n",
       "      <th>sub_heading</th>\n",
       "      <th>pos1</th>\n",
       "      <th>pos2</th>\n",
       "      <th>pos3</th>\n",
       "      <th>text</th>\n",
       "      <th>ofs1</th>\n",
       "      <th>ofs2</th>\n",
       "      <th>ofs3</th>\n",
       "      <th>labels</th>\n",
       "      <th>info_units</th>\n",
       "    </tr>\n",
       "  </thead>\n",
       "  <tbody>\n",
       "    <tr>\n",
       "      <th>0</th>\n",
       "      <td>constituency_parsing</td>\n",
       "      <td>0</td>\n",
       "      <td>title</td>\n",
       "      <td>title</td>\n",
       "      <td>2</td>\n",
       "      <td>2</td>\n",
       "      <td>2</td>\n",
       "      <td>Recurrent Neural Network Grammars</td>\n",
       "      <td>0.008969</td>\n",
       "      <td>1.000000</td>\n",
       "      <td>1.000000</td>\n",
       "      <td>research-problem</td>\n",
       "      <td>research-problem</td>\n",
       "    </tr>\n",
       "    <tr>\n",
       "      <th>1</th>\n",
       "      <td>constituency_parsing</td>\n",
       "      <td>0</td>\n",
       "      <td>introduction</td>\n",
       "      <td>introduction</td>\n",
       "      <td>12</td>\n",
       "      <td>5</td>\n",
       "      <td>5</td>\n",
       "      <td>In this paper , we introduce recurrent neural ...</td>\n",
       "      <td>0.053812</td>\n",
       "      <td>0.238095</td>\n",
       "      <td>0.238095</td>\n",
       "      <td>model</td>\n",
       "      <td>model</td>\n",
       "    </tr>\n",
       "    <tr>\n",
       "      <th>2</th>\n",
       "      <td>constituency_parsing</td>\n",
       "      <td>0</td>\n",
       "      <td>introduction</td>\n",
       "      <td>introduction</td>\n",
       "      <td>13</td>\n",
       "      <td>6</td>\n",
       "      <td>6</td>\n",
       "      <td>RNNGs operate via a recursive syntactic proces...</td>\n",
       "      <td>0.058296</td>\n",
       "      <td>0.285714</td>\n",
       "      <td>0.285714</td>\n",
       "      <td>model</td>\n",
       "      <td>model</td>\n",
       "    </tr>\n",
       "    <tr>\n",
       "      <th>3</th>\n",
       "      <td>constituency_parsing</td>\n",
       "      <td>0</td>\n",
       "      <td>introduction</td>\n",
       "      <td>introduction</td>\n",
       "      <td>15</td>\n",
       "      <td>8</td>\n",
       "      <td>8</td>\n",
       "      <td>We give two variants of the algorithm , one fo...</td>\n",
       "      <td>0.067265</td>\n",
       "      <td>0.380952</td>\n",
       "      <td>0.380952</td>\n",
       "      <td>model</td>\n",
       "      <td>model</td>\n",
       "    </tr>\n",
       "    <tr>\n",
       "      <th>4</th>\n",
       "      <td>constituency_parsing</td>\n",
       "      <td>0</td>\n",
       "      <td>introduction</td>\n",
       "      <td>introduction</td>\n",
       "      <td>24</td>\n",
       "      <td>17</td>\n",
       "      <td>17</td>\n",
       "      <td>The discriminative model also lets us use ance...</td>\n",
       "      <td>0.107623</td>\n",
       "      <td>0.809524</td>\n",
       "      <td>0.809524</td>\n",
       "      <td>model</td>\n",
       "      <td>model</td>\n",
       "    </tr>\n",
       "    <tr>\n",
       "      <th>...</th>\n",
       "      <td>...</td>\n",
       "      <td>...</td>\n",
       "      <td>...</td>\n",
       "      <td>...</td>\n",
       "      <td>...</td>\n",
       "      <td>...</td>\n",
       "      <td>...</td>\n",
       "      <td>...</td>\n",
       "      <td>...</td>\n",
       "      <td>...</td>\n",
       "      <td>...</td>\n",
       "      <td>...</td>\n",
       "      <td>...</td>\n",
       "    </tr>\n",
       "    <tr>\n",
       "      <th>2715</th>\n",
       "      <td>natural_language_inference</td>\n",
       "      <td>9</td>\n",
       "      <td>experiments</td>\n",
       "      <td>experiments</td>\n",
       "      <td>56</td>\n",
       "      <td>4</td>\n",
       "      <td>4</td>\n",
       "      <td>We trained the model by minimizing loss L from...</td>\n",
       "      <td>0.861538</td>\n",
       "      <td>0.400000</td>\n",
       "      <td>0.400000</td>\n",
       "      <td>experimental-setup</td>\n",
       "      <td>hyperparameters</td>\n",
       "    </tr>\n",
       "    <tr>\n",
       "      <th>2716</th>\n",
       "      <td>natural_language_inference</td>\n",
       "      <td>9</td>\n",
       "      <td>experiments</td>\n",
       "      <td>experiments</td>\n",
       "      <td>57</td>\n",
       "      <td>5</td>\n",
       "      <td>5</td>\n",
       "      <td>As is common practice for BERT models , we onl...</td>\n",
       "      <td>0.876923</td>\n",
       "      <td>0.500000</td>\n",
       "      <td>0.500000</td>\n",
       "      <td>experimental-setup</td>\n",
       "      <td>hyperparameters</td>\n",
       "    </tr>\n",
       "    <tr>\n",
       "      <th>2717</th>\n",
       "      <td>natural_language_inference</td>\n",
       "      <td>9</td>\n",
       "      <td>experiments</td>\n",
       "      <td>experiments</td>\n",
       "      <td>58</td>\n",
       "      <td>6</td>\n",
       "      <td>6</td>\n",
       "      <td>Evaluation completed in about 5 hours on the N...</td>\n",
       "      <td>0.892308</td>\n",
       "      <td>0.600000</td>\n",
       "      <td>0.600000</td>\n",
       "      <td>experimental-setup</td>\n",
       "      <td>results</td>\n",
       "    </tr>\n",
       "    <tr>\n",
       "      <th>2718</th>\n",
       "      <td>natural_language_inference</td>\n",
       "      <td>9</td>\n",
       "      <td>experiments</td>\n",
       "      <td>experiments</td>\n",
       "      <td>60</td>\n",
       "      <td>8</td>\n",
       "      <td>8</td>\n",
       "      <td>Our BERT model for NQ performs dramatically be...</td>\n",
       "      <td>0.923077</td>\n",
       "      <td>0.800000</td>\n",
       "      <td>0.800000</td>\n",
       "      <td>results</td>\n",
       "      <td>results</td>\n",
       "    </tr>\n",
       "    <tr>\n",
       "      <th>2719</th>\n",
       "      <td>natural_language_inference</td>\n",
       "      <td>9</td>\n",
       "      <td>experiments</td>\n",
       "      <td>experiments</td>\n",
       "      <td>61</td>\n",
       "      <td>9</td>\n",
       "      <td>9</td>\n",
       "      <td>Our model closes the gap between the F 1 score...</td>\n",
       "      <td>0.938462</td>\n",
       "      <td>0.900000</td>\n",
       "      <td>0.900000</td>\n",
       "      <td>results</td>\n",
       "      <td>results</td>\n",
       "    </tr>\n",
       "  </tbody>\n",
       "</table>\n",
       "<p>2720 rows × 13 columns</p>\n",
       "</div>"
      ],
      "text/plain": [
       "                           topic  paper_ID  main_heading   sub_heading  pos1  \\\n",
       "0           constituency_parsing         0         title         title     2   \n",
       "1           constituency_parsing         0  introduction  introduction    12   \n",
       "2           constituency_parsing         0  introduction  introduction    13   \n",
       "3           constituency_parsing         0  introduction  introduction    15   \n",
       "4           constituency_parsing         0  introduction  introduction    24   \n",
       "...                          ...       ...           ...           ...   ...   \n",
       "2715  natural_language_inference         9   experiments   experiments    56   \n",
       "2716  natural_language_inference         9   experiments   experiments    57   \n",
       "2717  natural_language_inference         9   experiments   experiments    58   \n",
       "2718  natural_language_inference         9   experiments   experiments    60   \n",
       "2719  natural_language_inference         9   experiments   experiments    61   \n",
       "\n",
       "      pos2  pos3                                               text      ofs1  \\\n",
       "0        2     2                  Recurrent Neural Network Grammars  0.008969   \n",
       "1        5     5  In this paper , we introduce recurrent neural ...  0.053812   \n",
       "2        6     6  RNNGs operate via a recursive syntactic proces...  0.058296   \n",
       "3        8     8  We give two variants of the algorithm , one fo...  0.067265   \n",
       "4       17    17  The discriminative model also lets us use ance...  0.107623   \n",
       "...    ...   ...                                                ...       ...   \n",
       "2715     4     4  We trained the model by minimizing loss L from...  0.861538   \n",
       "2716     5     5  As is common practice for BERT models , we onl...  0.876923   \n",
       "2717     6     6  Evaluation completed in about 5 hours on the N...  0.892308   \n",
       "2718     8     8  Our BERT model for NQ performs dramatically be...  0.923077   \n",
       "2719     9     9  Our model closes the gap between the F 1 score...  0.938462   \n",
       "\n",
       "          ofs2      ofs3              labels        info_units  \n",
       "0     1.000000  1.000000    research-problem  research-problem  \n",
       "1     0.238095  0.238095               model             model  \n",
       "2     0.285714  0.285714               model             model  \n",
       "3     0.380952  0.380952               model             model  \n",
       "4     0.809524  0.809524               model             model  \n",
       "...        ...       ...                 ...               ...  \n",
       "2715  0.400000  0.400000  experimental-setup   hyperparameters  \n",
       "2716  0.500000  0.500000  experimental-setup   hyperparameters  \n",
       "2717  0.600000  0.600000  experimental-setup           results  \n",
       "2718  0.800000  0.800000             results           results  \n",
       "2719  0.900000  0.900000             results           results  \n",
       "\n",
       "[2720 rows x 13 columns]"
      ]
     },
     "execution_count": 9,
     "metadata": {},
     "output_type": "execute_result"
    }
   ],
   "source": [
    "df"
   ]
  },
  {
   "cell_type": "code",
   "execution_count": 10,
   "metadata": {},
   "outputs": [
    {
     "name": "stdout",
     "output_type": "stream",
     "text": [
      "Test F1 Score: 0.7507352941176471\n"
     ]
    }
   ],
   "source": [
    "label = df['labels']\n",
    "predictions = df['info_units']\n",
    "test_f1 = f1_score(label, predictions, average='micro')\n",
    "print((f'Test F1 Score: {test_f1}'))"
   ]
  },
  {
   "cell_type": "code",
   "execution_count": 16,
   "metadata": {},
   "outputs": [],
   "source": [
    "df = df[df['labels'] != 'dataset']"
   ]
  },
  {
   "cell_type": "code",
   "execution_count": 17,
   "metadata": {},
   "outputs": [],
   "source": [
    "index = ['ablation-analysis', 'approach', 'baselines', 'code',  'experimental-setup', 'experiments', \n",
    "         'hyperparameters', 'model', 'research-problem', 'results']\n",
    "label = df['labels']\n",
    "predictions = df['info_units']\n",
    "cm = confusion_matrix(label, predictions, normalize = 'true')\n",
    "cm_df = pd.DataFrame(cm, index = index, columns = index)"
   ]
  },
  {
   "cell_type": "code",
   "execution_count": 18,
   "metadata": {},
   "outputs": [
    {
     "data": {
      "image/png": "[encoded data removed]",
      "text/plain": [
       "<Figure size 720x576 with 2 Axes>"
      ]
     },
     "metadata": {},
     "output_type": "display_data"
    }
   ],
   "source": [
    "import matplotlib.pyplot as plt\n",
    "import seaborn as sns\n",
    "sns.set_theme(color_codes=True)\n",
    "sns.set(rc={'figure.figsize':(10,8)})\n",
    "dataplot = sns.heatmap(cm_df, cmap=\"YlGnBu\", annot=True)\n",
    "# displaying heatmap\n",
    "plt.show()"
   ]
  },
  {
   "cell_type": "code",
   "execution_count": 13,
   "metadata": {},
   "outputs": [
    {
     "name": "stdout",
     "output_type": "stream",
     "text": [
      "                    precision    recall  f1-score   support\n",
      "\n",
      " ablation-analysis       0.83      0.69      0.76       159\n",
      "          approach       0.00      0.00      0.00       124\n",
      "         baselines       0.77      0.80      0.79       107\n",
      "              code       1.00      1.00      1.00        36\n",
      "           dataset       0.00      0.00      0.00         8\n",
      "experimental-setup       0.90      0.67      0.76       360\n",
      "       experiments       0.55      0.37      0.44       328\n",
      "   hyperparameters       0.60      0.69      0.65       146\n",
      "             model       0.76      0.95      0.84       497\n",
      "  research-problem       0.93      0.94      0.94       315\n",
      "           results       0.69      0.91      0.78       640\n",
      "\n",
      "          accuracy                           0.75      2720\n",
      "         macro avg       0.64      0.64      0.63      2720\n",
      "      weighted avg       0.72      0.75      0.72      2720\n",
      "\n"
     ]
    },
    {
     "name": "stderr",
     "output_type": "stream",
     "text": [
      "/home/ammaar/anaconda3/lib/python3.8/site-packages/sklearn/metrics/_classification.py:1221: UndefinedMetricWarning: Precision and F-score are ill-defined and being set to 0.0 in labels with no predicted samples. Use `zero_division` parameter to control this behavior.\n",
      "  _warn_prf(average, modifier, msg_start, len(result))\n"
     ]
    }
   ],
   "source": [
    "print(classification_report(label, predictions))"
   ]
  },
  {
   "cell_type": "code",
   "execution_count": 14,
   "metadata": {},
   "outputs": [
    {
     "data": {
      "text/plain": [
       "0.632161339751079"
      ]
     },
     "execution_count": 14,
     "metadata": {},
     "output_type": "execute_result"
    }
   ],
   "source": [
    "f1_score(label, predictions, average='macro')"
   ]
  },
  {
   "cell_type": "code",
   "execution_count": null,
   "metadata": {},
   "outputs": [],
   "source": []
  }
 ],
 "metadata": {
  "kernelspec": {
   "display_name": "Python 3",
   "language": "python",
   "name": "python3"
  },
  "language_info": {
   "codemirror_mode": {
    "name": "ipython",
    "version": 3
   },
   "file_extension": ".py",
   "mimetype": "text/x-python",
   "name": "python",
   "nbconvert_exporter": "python",
   "pygments_lexer": "ipython3",
   "version": "3.8.5"
  }
 },
 "nbformat": 4,
 "nbformat_minor": 4
}
