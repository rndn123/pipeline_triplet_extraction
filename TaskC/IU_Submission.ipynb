{
 "cells": [
  {
   "cell_type": "code",
   "execution_count": 1,
   "metadata": {},
   "outputs": [],
   "source": [
    "import pandas as pd\n",
    "import numpy as np\n",
    "import os"
   ]
  },
  {
   "cell_type": "code",
   "execution_count": 2,
   "metadata": {},
   "outputs": [],
   "source": [
    "df = pd.read_csv(\"Info_Units_Results/Test_info_units.csv\")"
   ]
  },
  {
   "cell_type": "code",
   "execution_count": 3,
   "metadata": {},
   "outputs": [],
   "source": [
    "df.loc[(df['labels'] == 'code'), 'info_units'] = df['labels']"
   ]
  },
  {
   "cell_type": "code",
   "execution_count": 4,
   "metadata": {},
   "outputs": [],
   "source": [
    "df.loc[(df['info_units'] == 'model-approach'), 'info_units'] = 'model'\n",
    "df.loc[(df['info_units'] == 'hyper-setup'), 'info_units'] = 'experimental-setup'\n",
    "df.loc[(df['info_units'] == 'exp-result'), 'info_units'] = 'results'"
   ]
  },
  {
   "cell_type": "code",
   "execution_count": 5,
   "metadata": {},
   "outputs": [
    {
     "data": {
      "text/plain": [
       "results               845\n",
       "model                 625\n",
       "research-problem      318\n",
       "experimental-setup    268\n",
       "experiments           218\n",
       "hyperparameters       167\n",
       "ablation-analysis     132\n",
       "baselines             111\n",
       "code                   36\n",
       "Name: info_units, dtype: int64"
      ]
     },
     "execution_count": 5,
     "metadata": {},
     "output_type": "execute_result"
    }
   ],
   "source": [
    "df['info_units'].value_counts()"
   ]
  },
  {
   "cell_type": "code",
   "execution_count": null,
   "metadata": {},
   "outputs": [],
   "source": [
    "#df['info_units'].value_counts()"
   ]
  },
  {
   "cell_type": "code",
   "execution_count": null,
   "metadata": {},
   "outputs": [],
   "source": [
    "df"
   ]
  },
  {
   "cell_type": "code",
   "execution_count": null,
   "metadata": {},
   "outputs": [],
   "source": [
    "df = df[['topic', 'paper_ID', 'info_units']]"
   ]
  },
  {
   "cell_type": "code",
   "execution_count": null,
   "metadata": {},
   "outputs": [],
   "source": [
    "df = df.drop_duplicates().reset_index(drop = True)"
   ]
  },
  {
   "cell_type": "code",
   "execution_count": null,
   "metadata": {},
   "outputs": [],
   "source": [
    "df"
   ]
  },
  {
   "cell_type": "code",
   "execution_count": null,
   "metadata": {},
   "outputs": [],
   "source": [
    "!mkdir submission"
   ]
  },
  {
   "cell_type": "code",
   "execution_count": null,
   "metadata": {},
   "outputs": [],
   "source": [
    "cd submission"
   ]
  },
  {
   "cell_type": "code",
   "execution_count": null,
   "metadata": {},
   "outputs": [],
   "source": [
    "for i in range(len(df)):\n",
    "    topic = df.iloc[i,0]\n",
    "    paper = df.iloc[i,1]\n",
    "    info = df.iloc[i, 2]\n",
    "    if not os.path.exists(topic):\n",
    "        os.makedirs(topic)\n",
    "    path = topic + \"/\" + str(paper)\n",
    "    if not os.path.exists(path):\n",
    "        os.makedirs(path)\n",
    "    file = path + \"/sentences.txt\"\n",
    "    f = open(file, \"w\")\n",
    "    f.close()\n",
    "    file = path + \"/entities.txt\"\n",
    "    f = open(file, \"w\")\n",
    "    f.close()\n",
    "    dir_path = os.path.join(path, 'triples')\n",
    "    if not os.path.exists(dir_path):\n",
    "        os.makedirs(dir_path)\n",
    "    file = path + \"/triples/\" + info + \".txt\"\n",
    "    f = open(file, \"w\")\n",
    "    f.close()"
   ]
  },
  {
   "cell_type": "code",
   "execution_count": null,
   "metadata": {},
   "outputs": [],
   "source": []
  }
 ],
 "metadata": {
  "kernelspec": {
   "display_name": "Python 3",
   "language": "python",
   "name": "python3"
  },
  "language_info": {
   "codemirror_mode": {
    "name": "ipython",
    "version": 3
   },
   "file_extension": ".py",
   "mimetype": "text/x-python",
   "name": "python",
   "nbconvert_exporter": "python",
   "pygments_lexer": "ipython3",
   "version": "3.8.5"
  }
 },
 "nbformat": 4,
 "nbformat_minor": 4
}
